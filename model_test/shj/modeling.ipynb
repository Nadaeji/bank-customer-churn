{
 "cells": [
  {
   "cell_type": "markdown",
   "metadata": {},
   "source": [
    "### 라이브러리 import"
   ]
  },
  {
   "cell_type": "code",
   "execution_count": 103,
   "metadata": {},
   "outputs": [],
   "source": [
    "import numpy as np\n",
    "import pandas as pd\n",
    "\n",
    "from sklearn.linear_model import LogisticRegression\n",
    "from sklearn.ensemble import RandomForestClassifier\n",
    "from xgboost import XGBClassifier\n",
    "from lightgbm import LGBMClassifier\n",
    "\n",
    "from sklearn.preprocessing import StandardScaler, LabelEncoder, OneHotEncoder\n",
    "from imblearn.over_sampling import SMOTE\n",
    "\n",
    "from sklearn.model_selection import train_test_split, GridSearchCV, cross_val_score\n",
    "from sklearn.metrics import accuracy_score, precision_score, recall_score, f1_score, roc_auc_score, classification_report\n",
    "\n",
    "from joblib import dump"
   ]
  },
  {
   "cell_type": "markdown",
   "metadata": {},
   "source": [
    "### 데이터 로드"
   ]
  },
  {
   "cell_type": "code",
   "execution_count": 104,
   "metadata": {},
   "outputs": [],
   "source": [
    "# 데이터 로드\n",
    "bank_df = pd.read_csv('../../data/BankChurners.csv')"
   ]
  },
  {
   "cell_type": "markdown",
   "metadata": {},
   "source": [
    "### 전처리"
   ]
  },
  {
   "cell_type": "code",
   "execution_count": 105,
   "metadata": {},
   "outputs": [],
   "source": [
    "# 필요없는 칼럼 제거\n",
    "drop_columns = ['CLIENTNUM',\n",
    "                'Naive_Bayes_Classifier_Attrition_Flag_Card_Category_Contacts_Count_12_mon_Dependent_count_Education_Level_Months_Inactive_12_mon_1',\n",
    "                'Naive_Bayes_Classifier_Attrition_Flag_Card_Category_Contacts_Count_12_mon_Dependent_count_Education_Level_Months_Inactive_12_mon_2',\n",
    "]\n",
    "bank_df = bank_df.drop(columns=drop_columns)\n",
    "\n",
    "bank_df = bank_df.loc[:, ~bank_df.columns.str.startswith(\"Total_\")]\n",
    "\n",
    "# 이탈여부 값 변환\n",
    "bank_df['Attrition_Flag'] = bank_df['Attrition_Flag'].map({'Existing Customer': 0, 'Attrited Customer': 1})"
   ]
  },
  {
   "cell_type": "markdown",
   "metadata": {},
   "source": [
    "### 원핫 인코딩"
   ]
  },
  {
   "cell_type": "code",
   "execution_count": 106,
   "metadata": {},
   "outputs": [],
   "source": [
    "# 범주형 칼럼\n",
    "cate_columns = ['Gender', 'Education_Level', 'Marital_Status', 'Income_Category', 'Card_Category']\n",
    "\n",
    "# 원핫 인코딩\n",
    "encoder = OneHotEncoder()\n",
    "encoded_cate = encoder.fit_transform(bank_df[cate_columns]).toarray()\n",
    "encoded_cate_df = pd.DataFrame(data=encoded_cate, columns=encoder.get_feature_names_out(cate_columns))\n",
    "\n",
    "# 원래 데이터에서 범주형 칼럼 제거\n",
    "bank_df = bank_df.drop(columns=cate_columns)\n",
    "\n",
    "# 인코딩된 데이터와 결합\n",
    "bank_df = pd.concat([bank_df, encoded_cate_df], axis=1)\n",
    "\n",
    "# display(bank_df)"
   ]
  },
  {
   "cell_type": "markdown",
   "metadata": {},
   "source": [
    "### 스케일링"
   ]
  },
  {
   "cell_type": "code",
   "execution_count": 107,
   "metadata": {},
   "outputs": [],
   "source": [
    "# 스케일링 칼럼\n",
    "scale_columns = ['Credit_Limit', 'Total_Revolving_Bal', 'Avg_Open_To_Buy', 'Total_Trans_Amt']\n",
    "\n",
    "# # 스케일링링\n",
    "# scaler = StandardScaler()\n",
    "# bank_scaled= scaler.fit_transform(bank_df)\n",
    "# bank_df = pd.DataFrame(bank_scaled, columns=bank_df.columns)/"
   ]
  },
  {
   "cell_type": "markdown",
   "metadata": {},
   "source": [
    "### 학습 & 평가 데이터 분리"
   ]
  },
  {
   "cell_type": "code",
   "execution_count": null,
   "metadata": {},
   "outputs": [
    {
     "name": "stdout",
     "output_type": "stream",
     "text": [
      "0        0\n",
      "1        0\n",
      "2        0\n",
      "3        0\n",
      "4        0\n",
      "        ..\n",
      "10122    0\n",
      "10123    1\n",
      "10124    1\n",
      "10125    1\n",
      "10126    1\n",
      "Name: Attrition_Flag, Length: 10127, dtype: int64\n"
     ]
    },
    {
     "data": {
      "text/plain": [
       "pandas.core.frame.DataFrame"
      ]
     },
     "execution_count": 108,
     "metadata": {},
     "output_type": "execute_result"
    }
   ],
   "source": [
    "X = bank_df.drop(columns=['Attrition_Flag'])\n",
    "y = bank_df['Attrition_Flag']\n",
    "scaler = StandardScaler()\n",
    "X= scaler.fit_transform(X)\n",
    "\n",
    "X_train, X_test, y_train, y_test = train_test_split(X, y, test_size=0.2, stratify=y, random_state=42)\n",
    "\n",
    "type(X_test)"
   ]
  },
  {
   "cell_type": "markdown",
   "metadata": {},
   "source": [
    "### 모델 학습 및 평가"
   ]
  },
  {
   "cell_type": "code",
   "execution_count": 93,
   "metadata": {},
   "outputs": [
    {
     "ename": "ValueError",
     "evalue": "Unknown label type: continuous. Maybe you are trying to fit a classifier, which expects discrete classes on a regression target with continuous values.",
     "output_type": "error",
     "traceback": [
      "\u001b[1;31m---------------------------------------------------------------------------\u001b[0m",
      "\u001b[1;31mValueError\u001b[0m                                Traceback (most recent call last)",
      "Cell \u001b[1;32mIn[93], line 11\u001b[0m\n\u001b[0;32m      9\u001b[0m \u001b[38;5;66;03m# 모델 학습 및 평가\u001b[39;00m\n\u001b[0;32m     10\u001b[0m \u001b[38;5;28;01mfor\u001b[39;00m name, model \u001b[38;5;129;01min\u001b[39;00m models\u001b[38;5;241m.\u001b[39mitems():\n\u001b[1;32m---> 11\u001b[0m     \u001b[43mmodel\u001b[49m\u001b[38;5;241;43m.\u001b[39;49m\u001b[43mfit\u001b[49m\u001b[43m(\u001b[49m\u001b[43mX_train\u001b[49m\u001b[43m,\u001b[49m\u001b[43m \u001b[49m\u001b[43my_train\u001b[49m\u001b[43m)\u001b[49m    \n\u001b[0;32m     12\u001b[0m     y_pred \u001b[38;5;241m=\u001b[39m model\u001b[38;5;241m.\u001b[39mpredict(X_test)\n\u001b[0;32m     13\u001b[0m     y_pred_proba \u001b[38;5;241m=\u001b[39m model\u001b[38;5;241m.\u001b[39mpredict_proba(X_test)[:, \u001b[38;5;241m1\u001b[39m]  \u001b[38;5;66;03m# ROC-AUC 계산을 위한 확률값\u001b[39;00m\n",
      "File \u001b[1;32mc:\\Users\\Playdata\\anaconda3\\envs\\pystudy_env\\Lib\\site-packages\\sklearn\\base.py:1389\u001b[0m, in \u001b[0;36m_fit_context.<locals>.decorator.<locals>.wrapper\u001b[1;34m(estimator, *args, **kwargs)\u001b[0m\n\u001b[0;32m   1382\u001b[0m     estimator\u001b[38;5;241m.\u001b[39m_validate_params()\n\u001b[0;32m   1384\u001b[0m \u001b[38;5;28;01mwith\u001b[39;00m config_context(\n\u001b[0;32m   1385\u001b[0m     skip_parameter_validation\u001b[38;5;241m=\u001b[39m(\n\u001b[0;32m   1386\u001b[0m         prefer_skip_nested_validation \u001b[38;5;129;01mor\u001b[39;00m global_skip_validation\n\u001b[0;32m   1387\u001b[0m     )\n\u001b[0;32m   1388\u001b[0m ):\n\u001b[1;32m-> 1389\u001b[0m     \u001b[38;5;28;01mreturn\u001b[39;00m \u001b[43mfit_method\u001b[49m\u001b[43m(\u001b[49m\u001b[43mestimator\u001b[49m\u001b[43m,\u001b[49m\u001b[43m \u001b[49m\u001b[38;5;241;43m*\u001b[39;49m\u001b[43margs\u001b[49m\u001b[43m,\u001b[49m\u001b[43m \u001b[49m\u001b[38;5;241;43m*\u001b[39;49m\u001b[38;5;241;43m*\u001b[39;49m\u001b[43mkwargs\u001b[49m\u001b[43m)\u001b[49m\n",
      "File \u001b[1;32mc:\\Users\\Playdata\\anaconda3\\envs\\pystudy_env\\Lib\\site-packages\\sklearn\\ensemble\\_forest.py:419\u001b[0m, in \u001b[0;36mBaseForest.fit\u001b[1;34m(self, X, y, sample_weight)\u001b[0m\n\u001b[0;32m    412\u001b[0m         \u001b[38;5;28;01mraise\u001b[39;00m \u001b[38;5;167;01mValueError\u001b[39;00m(\n\u001b[0;32m    413\u001b[0m             \u001b[38;5;124m\"\u001b[39m\u001b[38;5;124mSum of y is not strictly positive which \u001b[39m\u001b[38;5;124m\"\u001b[39m\n\u001b[0;32m    414\u001b[0m             \u001b[38;5;124m\"\u001b[39m\u001b[38;5;124mis necessary for Poisson regression.\u001b[39m\u001b[38;5;124m\"\u001b[39m\n\u001b[0;32m    415\u001b[0m         )\n\u001b[0;32m    417\u001b[0m \u001b[38;5;28mself\u001b[39m\u001b[38;5;241m.\u001b[39m_n_samples, \u001b[38;5;28mself\u001b[39m\u001b[38;5;241m.\u001b[39mn_outputs_ \u001b[38;5;241m=\u001b[39m y\u001b[38;5;241m.\u001b[39mshape\n\u001b[1;32m--> 419\u001b[0m y, expanded_class_weight \u001b[38;5;241m=\u001b[39m \u001b[38;5;28;43mself\u001b[39;49m\u001b[38;5;241;43m.\u001b[39;49m\u001b[43m_validate_y_class_weight\u001b[49m\u001b[43m(\u001b[49m\u001b[43my\u001b[49m\u001b[43m)\u001b[49m\n\u001b[0;32m    421\u001b[0m \u001b[38;5;28;01mif\u001b[39;00m \u001b[38;5;28mgetattr\u001b[39m(y, \u001b[38;5;124m\"\u001b[39m\u001b[38;5;124mdtype\u001b[39m\u001b[38;5;124m\"\u001b[39m, \u001b[38;5;28;01mNone\u001b[39;00m) \u001b[38;5;241m!=\u001b[39m DOUBLE \u001b[38;5;129;01mor\u001b[39;00m \u001b[38;5;129;01mnot\u001b[39;00m y\u001b[38;5;241m.\u001b[39mflags\u001b[38;5;241m.\u001b[39mcontiguous:\n\u001b[0;32m    422\u001b[0m     y \u001b[38;5;241m=\u001b[39m np\u001b[38;5;241m.\u001b[39mascontiguousarray(y, dtype\u001b[38;5;241m=\u001b[39mDOUBLE)\n",
      "File \u001b[1;32mc:\\Users\\Playdata\\anaconda3\\envs\\pystudy_env\\Lib\\site-packages\\sklearn\\ensemble\\_forest.py:831\u001b[0m, in \u001b[0;36mForestClassifier._validate_y_class_weight\u001b[1;34m(self, y)\u001b[0m\n\u001b[0;32m    830\u001b[0m \u001b[38;5;28;01mdef\u001b[39;00m\u001b[38;5;250m \u001b[39m\u001b[38;5;21m_validate_y_class_weight\u001b[39m(\u001b[38;5;28mself\u001b[39m, y):\n\u001b[1;32m--> 831\u001b[0m     \u001b[43mcheck_classification_targets\u001b[49m\u001b[43m(\u001b[49m\u001b[43my\u001b[49m\u001b[43m)\u001b[49m\n\u001b[0;32m    833\u001b[0m     y \u001b[38;5;241m=\u001b[39m np\u001b[38;5;241m.\u001b[39mcopy(y)\n\u001b[0;32m    834\u001b[0m     expanded_class_weight \u001b[38;5;241m=\u001b[39m \u001b[38;5;28;01mNone\u001b[39;00m\n",
      "File \u001b[1;32mc:\\Users\\Playdata\\anaconda3\\envs\\pystudy_env\\Lib\\site-packages\\sklearn\\utils\\multiclass.py:222\u001b[0m, in \u001b[0;36mcheck_classification_targets\u001b[1;34m(y)\u001b[0m\n\u001b[0;32m    214\u001b[0m y_type \u001b[38;5;241m=\u001b[39m type_of_target(y, input_name\u001b[38;5;241m=\u001b[39m\u001b[38;5;124m\"\u001b[39m\u001b[38;5;124my\u001b[39m\u001b[38;5;124m\"\u001b[39m)\n\u001b[0;32m    215\u001b[0m \u001b[38;5;28;01mif\u001b[39;00m y_type \u001b[38;5;129;01mnot\u001b[39;00m \u001b[38;5;129;01min\u001b[39;00m [\n\u001b[0;32m    216\u001b[0m     \u001b[38;5;124m\"\u001b[39m\u001b[38;5;124mbinary\u001b[39m\u001b[38;5;124m\"\u001b[39m,\n\u001b[0;32m    217\u001b[0m     \u001b[38;5;124m\"\u001b[39m\u001b[38;5;124mmulticlass\u001b[39m\u001b[38;5;124m\"\u001b[39m,\n\u001b[1;32m   (...)\u001b[0m\n\u001b[0;32m    220\u001b[0m     \u001b[38;5;124m\"\u001b[39m\u001b[38;5;124mmultilabel-sequences\u001b[39m\u001b[38;5;124m\"\u001b[39m,\n\u001b[0;32m    221\u001b[0m ]:\n\u001b[1;32m--> 222\u001b[0m     \u001b[38;5;28;01mraise\u001b[39;00m \u001b[38;5;167;01mValueError\u001b[39;00m(\n\u001b[0;32m    223\u001b[0m         \u001b[38;5;124mf\u001b[39m\u001b[38;5;124m\"\u001b[39m\u001b[38;5;124mUnknown label type: \u001b[39m\u001b[38;5;132;01m{\u001b[39;00my_type\u001b[38;5;132;01m}\u001b[39;00m\u001b[38;5;124m. Maybe you are trying to fit a \u001b[39m\u001b[38;5;124m\"\u001b[39m\n\u001b[0;32m    224\u001b[0m         \u001b[38;5;124m\"\u001b[39m\u001b[38;5;124mclassifier, which expects discrete classes on a \u001b[39m\u001b[38;5;124m\"\u001b[39m\n\u001b[0;32m    225\u001b[0m         \u001b[38;5;124m\"\u001b[39m\u001b[38;5;124mregression target with continuous values.\u001b[39m\u001b[38;5;124m\"\u001b[39m\n\u001b[0;32m    226\u001b[0m     )\n",
      "\u001b[1;31mValueError\u001b[0m: Unknown label type: continuous. Maybe you are trying to fit a classifier, which expects discrete classes on a regression target with continuous values."
     ]
    }
   ],
   "source": [
    "# 모델 선정\n",
    "models = {\n",
    "    # \"Logistic Regression\": LogisticRegression(random_state=42),\n",
    "    \"Random Forest\": RandomForestClassifier(random_state=42),\n",
    "    \"XGBoost\": XGBClassifier(random_state=42),\n",
    "    \"LightGBM\": LGBMClassifier(random_state=42)\n",
    "}\n",
    "\n",
    "# 모델 학습 및 평가\n",
    "for name, model in models.items():\n",
    "    model.fit(X_train, y_train)    \n",
    "    y_pred = model.predict(X_test)\n",
    "    y_pred_proba = model.predict_proba(X_test)[:, 1]  # ROC-AUC 계산을 위한 확률값\n",
    "    \n",
    "    # 평가 지표 출력\n",
    "    print(f\"{name} ==========\")\n",
    "    print(f\"Accuracy : {accuracy_score(y_test, y_pred):.4f}\")\n",
    "    print(f\"Precision : {precision_score(y_test, y_pred):.4f}\")\n",
    "    print(f\"Recall : {recall_score(y_test, y_pred):.4f}\")\n",
    "    print(f\"F1 Score : {f1_score(y_test, y_pred):.4f}\")\n",
    "    print(f\"ROC-AUC : {roc_auc_score(y_test, y_pred_proba):.4f}\")\n",
    "    print(f\"\\n>>>> Classification Report\\n{classification_report(y_test, y_pred)}\")\n",
    "\n",
    "    # 특성 중요도 확인\n",
    "    # if (name == 'Logistic Regression'):\n",
    "    #     coef_importance = pd.DataFrame({'Feature': X.columns, 'Coefficient': model.coef_[0]})\n",
    "    #     print(\"\\n>>>> Feature Coefficients\\n\", coef_importance.sort_values(by='Coefficient', ascending=False))\n",
    "    # else:\n",
    "    feature_importance = pd.DataFrame({'Feature': X.columns, 'Importance': model.feature_importances_})\n",
    "    print(\"\\n>>>> Feature Importance\\n\", feature_importance.sort_values(by='Importance', ascending=False))\n",
    "\n",
    "    print(\"\\n\" + \"=\"*100 + \"\\n\")"
   ]
  },
  {
   "cell_type": "markdown",
   "metadata": {},
   "source": [
    "- ### 오버 샘플링 및 하이퍼 파라미터 튜닝"
   ]
  },
  {
   "cell_type": "code",
   "execution_count": null,
   "metadata": {},
   "outputs": [
    {
     "data": {
      "text/plain": [
       "{'learning_rate': 0.3,\n",
       " 'max_depth': 5,\n",
       " 'n_estimators': 200,\n",
       " 'num_leaves': 31,\n",
       " 'reg_lambda': 0.1}"
      ]
     },
     "execution_count": 81,
     "metadata": {},
     "output_type": "execute_result"
    }
   ],
   "source": [
    "{'learning_rate': 0.3, 'max_depth': 5, 'n_estimators': 200, 'num_leaves': 31, 'reg_lambda': 0.1}"
   ]
  },
  {
   "cell_type": "code",
   "execution_count": null,
   "metadata": {},
   "outputs": [
    {
     "name": "stdout",
     "output_type": "stream",
     "text": [
      "\n",
      "GridSearchCV Search Best Params for LightGBM..............................\n",
      "Fitting 5 folds for each of 16 candidates, totalling 80 fits\n",
      ">>>> Best Parameters for LightGBM\n",
      "{'learning_rate': 0.1, 'max_depth': 7, 'n_estimators': 100, 'reg_lambda': 0.1}\n"
     ]
    },
    {
     "name": "stderr",
     "output_type": "stream",
     "text": [
      "c:\\Users\\Playdata\\anaconda3\\envs\\pystudy_env\\Lib\\site-packages\\sklearn\\utils\\validation.py:2739: UserWarning: X does not have valid feature names, but LGBMClassifier was fitted with feature names\n",
      "  warnings.warn(\n",
      "c:\\Users\\Playdata\\anaconda3\\envs\\pystudy_env\\Lib\\site-packages\\sklearn\\utils\\validation.py:2739: UserWarning: X does not have valid feature names, but LGBMClassifier was fitted with feature names\n",
      "  warnings.warn(\n",
      "c:\\Users\\Playdata\\anaconda3\\envs\\pystudy_env\\Lib\\site-packages\\sklearn\\utils\\validation.py:2739: UserWarning: X does not have valid feature names, but LGBMClassifier was fitted with feature names\n",
      "  warnings.warn(\n"
     ]
    },
    {
     "name": "stdout",
     "output_type": "stream",
     "text": [
      "Cross Val Score : [0.20512821 0.95583483 0.95397788 0.96106705 0.96283059]\n",
      "LightGBM ==========\n",
      "Accuracy : 0.8638\n",
      "Precision : 0.6219\n",
      "Recall : 0.3846\n",
      "F1 Score : 0.4753\n",
      "ROC-AUC : 0.8521\n",
      "\n",
      ">>>> Classification Report\n",
      "              precision    recall  f1-score   support\n",
      "\n",
      "           0       0.89      0.96      0.92      1701\n",
      "           1       0.62      0.38      0.48       325\n",
      "\n",
      "    accuracy                           0.86      2026\n",
      "   macro avg       0.76      0.67      0.70      2026\n",
      "weighted avg       0.85      0.86      0.85      2026\n",
      "\n",
      "\n",
      ">>>> Feature Importance\n",
      "                            Feature  Importance\n",
      "7            Avg_Utilization_Ratio         395\n",
      "2                   Months_on_book         350\n",
      "4            Contacts_Count_12_mon         350\n",
      "3           Months_Inactive_12_mon         322\n",
      "5                     Credit_Limit         299\n",
      "0                     Customer_Age         296\n",
      "6                  Avg_Open_To_Buy         227\n",
      "1                  Dependent_count         222\n",
      "19           Marital_Status_Single          48\n",
      "8                         Gender_F          37\n",
      "12        Education_Level_Graduate          36\n",
      "18          Marital_Status_Married          34\n",
      "22     Income_Category_$40K - $60K          30\n",
      "25  Income_Category_Less than $40K          30\n",
      "13     Education_Level_High School          29\n",
      "11       Education_Level_Doctorate          28\n",
      "23     Income_Category_$60K - $80K          24\n",
      "26         Income_Category_Unknown          22\n",
      "16         Education_Level_Unknown          22\n",
      "10         Education_Level_College          22\n",
      "15      Education_Level_Uneducated          16\n",
      "24    Income_Category_$80K - $120K          15\n",
      "20          Marital_Status_Unknown          14\n",
      "28              Card_Category_Gold          13\n",
      "21         Income_Category_$120K +           9\n",
      "17         Marital_Status_Divorced           8\n",
      "27              Card_Category_Blue           7\n",
      "14   Education_Level_Post-Graduate           5\n",
      "9                         Gender_M           2\n",
      "30            Card_Category_Silver           2\n",
      "29          Card_Category_Platinum           0\n",
      "\n",
      "====================================================================================================\n",
      "\n"
     ]
    },
    {
     "name": "stderr",
     "output_type": "stream",
     "text": [
      "c:\\Users\\Playdata\\anaconda3\\envs\\pystudy_env\\Lib\\site-packages\\sklearn\\utils\\validation.py:2739: UserWarning: X does not have valid feature names, but LGBMClassifier was fitted with feature names\n",
      "  warnings.warn(\n",
      "c:\\Users\\Playdata\\anaconda3\\envs\\pystudy_env\\Lib\\site-packages\\sklearn\\utils\\validation.py:2739: UserWarning: X does not have valid feature names, but LGBMClassifier was fitted with feature names\n",
      "  warnings.warn(\n",
      "c:\\Users\\Playdata\\anaconda3\\envs\\pystudy_env\\Lib\\site-packages\\sklearn\\utils\\validation.py:2739: UserWarning: X does not have valid feature names, but LGBMClassifier was fitted with feature names\n",
      "  warnings.warn(\n",
      "c:\\Users\\Playdata\\anaconda3\\envs\\pystudy_env\\Lib\\site-packages\\sklearn\\utils\\validation.py:2739: UserWarning: X does not have valid feature names, but LGBMClassifier was fitted with feature names\n",
      "  warnings.warn(\n"
     ]
    }
   ],
   "source": [
    "# 오버샘플링 적용\n",
    "smote = SMOTE(random_state=42)\n",
    "X_train_resample, y_train_resample = smote.fit_resample(X_train, y_train)\n",
    "\n",
    "# 모델 선정\n",
    "models = {\n",
    "    # \"Logistic Regression\": LogisticRegression(random_state=42),\n",
    "    # \"Random Forest\": RandomForestClassifier(random_state=42),\n",
    "    # \"XGBoost\": XGBClassifier(random_state=42),\n",
    "    'LightGBM' : LGBMClassifier(class_weight='balanced',random_state=42)\n",
    "}\n",
    "\n",
    "# 파라미터 설정\n",
    "param_grids = {\n",
    "    # \"Logistic Regression\": {\n",
    "    #     'C': [0.01, 0.1, 1, 10],              # 규제 강도\n",
    "    #     'penalty': ['l1', 'l2'],               # 규제 유형\n",
    "    #     'solver': ['liblinear']                # l1과 l2 모두 지원하는 solver\n",
    "    # },\n",
    "    \"Random Forest\": {\n",
    "        'n_estimators': [50, 100, 200],                 # 트리 개수\n",
    "        'max_depth': [3, 5],                          # 최대 깊이\n",
    "        'min_samples_split': [2, 5, 10],                # 노드 분할 최소 샘플 : 값이 클수록 트리가 덜 복잡해져 과적합을 줄이는 효과\n",
    "        'min_samples_leaf': [1, 2, 4],                  # 리프 노드 최소 샘플 : 값이 크면 모델이 단순 (클래스 불균형이 심하면 크게 설정)\n",
    "        'max_features': ['sqrt', 'log2', 0.3, 0.5],     # 특성 샘플링 비율 : 각 트리에서 사용할 특성의 최대 개수 (무작위성을 높여 모델의 다양성을 증가)\n",
    "        # 'class_weight' : ['balanced']                   # 클래스 가중치 : 클래스 불균형을 해결하기 위해 클래스에 가중치를 부여\n",
    "    },\n",
    "    \"XGBoost\": {\n",
    "        'n_estimators': [50, 100, 200],                 # 트리 개수\n",
    "        'max_depth': [3, 5, 7],                        # 최대 깊이 : XGBoost는 깊이가 얕아도 잘 작동한다!\n",
    "        'learning_rate': [0.01, 0.05, 0.1, 0.3],        # 학습률\n",
    "        'subsample': [0.6, 0.8, 1.0],                   # 각 트리 학습에 사용할 데이터 샘플 비율 : 값이 낮을수록 과적합 방지\n",
    "    },\n",
    "    \"LightGBM\": {\n",
    "        'n_estimators': [100,500],\n",
    "        'max_depth': [7,9],  \n",
    "        'learning_rate':  [0.1,0.5],\n",
    "        # 'num_leaves':[31],                     # 한 트리의 최대 리프 노드 수 : 2^(max_depth)보다 작아야 과적합을 줄이는 데 유리\n",
    "        'reg_lambda' : [0.1,0.5],                     # L2 규제 : 과적합을 방지하고 모델을 안정화\n",
    "    },\n",
    "}\n",
    "\n",
    "# 모델 학습 및 평가\n",
    "for name, model in models.items():\n",
    "    # 파라미터 학습\n",
    "    print(f\"\\nGridSearchCV Search Best Params for {name}..............................\")\n",
    "    grid_search = GridSearchCV(estimator=model, param_grid=param_grids[name], cv=5, scoring='f1', n_jobs=-1, verbose=1)\n",
    "    grid_search.fit(X_train_resample, y_train_resample)\n",
    "    \n",
    "    # 최적 모델 선정\n",
    "    best_model = grid_search.best_estimator_\n",
    "    print(f\">>>> Best Parameters for {name}\\n{grid_search.best_params_}\")\n",
    "    \n",
    "    # 교차 검증\n",
    "    print(f\"Cross Val Score : {cross_val_score(best_model, X_train_resample, y_train_resample, scoring='f1', cv=5)}\")\n",
    "\n",
    "    # 예측\n",
    "    y_pred = best_model.predict(X_test)\n",
    "    y_pred_proba = best_model.predict_proba(X_test)[:, 1]  # ROC-AUC 계산을 위한 확률값\n",
    "    \n",
    "    # 평가 지표 출력\n",
    "    print(f\"{name} ==========\")\n",
    "    print(f\"Accuracy : {accuracy_score(y_test, y_pred):.4f}\")\n",
    "    print(f\"Precision : {precision_score(y_test, y_pred):.4f}\")\n",
    "    print(f\"Recall : {recall_score(y_test, y_pred):.4f}\")\n",
    "    print(f\"F1 Score : {f1_score(y_test, y_pred):.4f}\")\n",
    "    print(f\"ROC-AUC : {roc_auc_score(y_test, y_pred_proba):.4f}\")    \n",
    "    print(f\"\\n>>>> Classification Report\\n{classification_report(y_test, y_pred)}\")\n",
    "\n",
    "    # 특성 중요도 확인\n",
    "    # if (name == \"Logistic Regression\"):\n",
    "    #     coef_importance = pd.DataFrame({'Feature': X.columns, 'Coefficient': best_model.coef_[0]})\n",
    "    #     print(\"\\n>>>> Feature Coefficients\\n\", coef_importance.sort_values(by='Coefficient', ascending=False))\n",
    "    # else:\n",
    "    feature_importance = pd.DataFrame({'Feature': X.columns, 'Importance': best_model.feature_importances_})\n",
    "    print(\"\\n>>>> Feature Importance\\n\", feature_importance.sort_values(by='Importance', ascending=False))\n",
    "\n",
    "    print(\"\\n\" + \"=\"*100 + \"\\n\")"
   ]
  },
  {
   "cell_type": "markdown",
   "metadata": {},
   "source": [
    "### 최종 모델 선정 및 저장"
   ]
  },
  {
   "cell_type": "code",
   "execution_count": null,
   "metadata": {},
   "outputs": [],
   "source": [
    "# dump(model, \"model.joblib\")"
   ]
  }
 ],
 "metadata": {
  "kernelspec": {
   "display_name": "pystudy_env",
   "language": "python",
   "name": "python3"
  },
  "language_info": {
   "codemirror_mode": {
    "name": "ipython",
    "version": 3
   },
   "file_extension": ".py",
   "mimetype": "text/x-python",
   "name": "python",
   "nbconvert_exporter": "python",
   "pygments_lexer": "ipython3",
   "version": "3.12.9"
  }
 },
 "nbformat": 4,
 "nbformat_minor": 2
}
